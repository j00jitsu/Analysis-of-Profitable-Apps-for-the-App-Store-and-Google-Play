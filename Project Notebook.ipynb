{
 "metadata": {
  "language_info": {
   "codemirror_mode": {
    "name": "ipython",
    "version": 3
   },
   "file_extension": ".py",
   "mimetype": "text/x-python",
   "name": "python",
   "nbconvert_exporter": "python",
   "pygments_lexer": "ipython3",
   "version": "3.8.6-final"
  },
  "orig_nbformat": 2,
  "kernelspec": {
   "name": "python3",
   "display_name": "Python 3"
  }
 },
 "nbformat": 4,
 "nbformat_minor": 2,
 "cells": [
  {
   "source": [
    "# Analysis of Profitable Apps for the App Store and Google Play\n",
    "\n",
    "As of 2018, there were about 2 million iOS apps available in the App Store, and about 2.1 million Android apps in the Google Play store. This app analysis is intended to find the most profitable types of apps to develop in terms of ad revenue, as the apps themselves will be free to download. Naturally, this means that we must find the kind of apps which are most installed, since more users means more people seeing and potentially engaging with the ads. Therefore, the goal is to help our hypothetical developers understand what kinds of apps are most likely to attract the most users on both Android and iOS.\n",
    "\n",
    "We will accomplish these goals with a few fairly straightforward steps:\n",
    "\n",
    "1. Open data for the App Store and Google Play apps, and create lists to more easily process the data\n",
    "2. Clean the data by removing any incorrect, duplicate, or irrelevant apps (non-free, non-English, incorrect data)\n",
    "3. Categorize and sort the apps so we can make informed statements about which ones users prefer"
   ],
   "cell_type": "markdown",
   "metadata": {}
  },
  {
   "source": [
    "## Data exploration and sorting\n",
    "\n",
    "Collecting data for over 4 million apps would not only be very time-consuming, it would also be expensive. Realistically, it would not even be necessary, as a smaller sample should be suitable to give us the information we need. Our data sets for the Android and iOS app stores will include about 10,000 and 7,000 apps, respectively.\n",
    "\n",
    "Opening and exploring the data sets is the first step. We'll use a function to allow for repeated printing of rows in a readable way."
   ],
   "cell_type": "markdown",
   "metadata": {}
  },
  {
   "cell_type": "code",
   "execution_count": 1,
   "metadata": {},
   "outputs": [],
   "source": [
    "def explore_data(dataset, start, end, rows_columns=False):\n",
    "    data_slice = dataset[start:end]\n",
    "    for row in data_slice:\n",
    "        print(row)\n",
    "        print('\\n')\n",
    "\n",
    "    if rows_columns:\n",
    "        print(f'Number of rows: {len(dataset)}')\n",
    "        print(f'Number of columns: {len(dataset[0])}')"
   ]
  },
  {
   "source": [
    "The `explore_data()` function takes four parameters: dataset, which is expected as a list of lists; start and end, which should be integers and represent the starting/ending indices of a slice of the dataset; rows_columns, expected to be a boolean with False set as default.\n",
    "\n",
    "The function opens and slices the data. It then loops through the slice, and for each iteration prints a row and a blank line.\n",
    "\n",
    "Let's open the two app data sets and create lists from them. We'll also save each header row into its own variable."
   ],
   "cell_type": "markdown",
   "metadata": {}
  },
  {
   "cell_type": "code",
   "execution_count": 2,
   "metadata": {},
   "outputs": [],
   "source": [
    "from csv import reader\n",
    "\n",
    "### The Google Play data set ###\n",
    "opened_file = open('googleplaystore.csv', encoding='UTF-8')\n",
    "read_file = reader(opened_file)\n",
    "android = list(read_file)\n",
    "android_header = android[0]\n",
    "android = android[1:]\n",
    "\n",
    "### The App Store data set ###\n",
    "opened_file = open('AppleStore.csv', encoding='UTF-8')\n",
    "read_file = reader(opened_file)\n",
    "ios = list(read_file)\n",
    "ios_header = ios[0]\n",
    "ios = ios[1:]"
   ]
  },
  {
   "source": [
    "Simple enough! Next, we'll use our explore_data() function to examine the first few rows of the Google data file."
   ],
   "cell_type": "markdown",
   "metadata": {}
  },
  {
   "cell_type": "code",
   "execution_count": 3,
   "metadata": {
    "tags": []
   },
   "outputs": [
    {
     "output_type": "stream",
     "name": "stdout",
     "text": [
      "['App', 'Category', 'Rating', 'Reviews', 'Size', 'Installs', 'Type', 'Price', 'Content Rating', 'Genres', 'Last Updated', 'Current Ver', 'Android Ver']\n\n\n['Photo Editor & Candy Camera & Grid & ScrapBook', 'ART_AND_DESIGN', '4.1', '159', '19M', '10,000+', 'Free', '0', 'Everyone', 'Art & Design', 'January 7, 2018', '1.0.0', '4.0.3 and up']\n\n\n['Coloring book moana', 'ART_AND_DESIGN', '3.9', '967', '14M', '500,000+', 'Free', '0', 'Everyone', 'Art & Design;Pretend Play', 'January 15, 2018', '2.0.0', '4.0.3 and up']\n\n\n['U Launcher Lite – FREE Live Cool Themes, Hide Apps', 'ART_AND_DESIGN', '4.7', '87510', '8.7M', '5,000,000+', 'Free', '0', 'Everyone', 'Art & Design', 'August 1, 2018', '1.2.4', '4.0.3 and up']\n\n\n['Sketch - Draw & Paint', 'ART_AND_DESIGN', '4.5', '215644', '25M', '50,000,000+', 'Free', '0', 'Teen', 'Art & Design', 'June 8, 2018', 'Varies with device', '4.2 and up']\n\n\nNumber of rows: 10841\nNumber of columns: 13\n"
     ]
    }
   ],
   "source": [
    "print(android_header)\n",
    "print('\\n')\n",
    "explore_data(android, 0, 4, rows_columns=True)"
   ]
  },
  {
   "source": [
    "There are 10,841 apps, sorted into 13 columns. Many of the column headings seem like they will be useful to our analysis. The most relevant for now are probably 'App', 'Category', 'Rating', 'Installs', 'Type', 'Price', and 'Genres'."
   ],
   "cell_type": "markdown",
   "metadata": {}
  },
  {
   "source": [
    "Now let's do the same for the iOS store data."
   ],
   "cell_type": "markdown",
   "metadata": {}
  },
  {
   "cell_type": "code",
   "execution_count": 4,
   "metadata": {
    "tags": []
   },
   "outputs": [
    {
     "output_type": "stream",
     "name": "stdout",
     "text": [
      "['id', 'track_name', 'size_bytes', 'currency', 'price', 'rating_count_tot', 'rating_count_ver', 'user_rating', 'user_rating_ver', 'ver', 'cont_rating', 'prime_genre', 'sup_devices.num', 'ipadSc_urls.num', 'lang.num', 'vpp_lic']\n\n\n['284882215', 'Facebook', '389879808', 'USD', '0.0', '2974676', '212', '3.5', '3.5', '95.0', '4+', 'Social Networking', '37', '1', '29', '1']\n\n\n['389801252', 'Instagram', '113954816', 'USD', '0.0', '2161558', '1289', '4.5', '4.0', '10.23', '12+', 'Photo & Video', '37', '0', '29', '1']\n\n\n['529479190', 'Clash of Clans', '116476928', 'USD', '0.0', '2130805', '579', '4.5', '4.5', '9.24.12', '9+', 'Games', '38', '5', '18', '1']\n\n\n['420009108', 'Temple Run', '65921024', 'USD', '0.0', '1724546', '3842', '4.5', '4.0', '1.6.2', '9+', 'Games', '40', '5', '1', '1']\n\n\nNumber of rows: 7197\nNumber of columns: 16\n"
     ]
    }
   ],
   "source": [
    "print(ios_header)\n",
    "print('\\n')\n",
    "explore_data(ios, 0, 4, rows_columns=True)"
   ]
  },
  {
   "source": [
    "The iOS data set includes 7,197 apps with attributes sorted into 16 columns. The columns for the Apple data are in some cases a bit cryptic. Nonetheless, they are easy enough to figure out by looking at the entries. For example, track_name corresponds to the app's name. The most useful seem to be 'track_name', 'currency', 'price', 'rating_count_tot', 'rating_count_ver', and 'prime_genre'. For additional help with the columns, the [documentation](https://www.kaggle.com/ramamet4/app-store-apple-data-set-10k-apps/home) is available."
   ],
   "cell_type": "markdown",
   "metadata": {}
  },
  {
   "source": [
    "## Data Cleaning\n",
    "\n",
    "One of the most critical parts of data analysis is cleaning the data, i.e. removing irrelevant, inaccurate, or duplicate data which would interfere with drawing accurate conclusions.\n",
    "\n",
    "From the [discussion section](https://www.kaggle.com/lava18/google-play-store-apps/discussion) of the Google Play data, we see that row 10,472 is incorrect - it lists the app's rating as 19, while the maximum rating for an app in the Google Play Store should be 5."
   ],
   "cell_type": "markdown",
   "metadata": {}
  },
  {
   "cell_type": "code",
   "execution_count": 5,
   "metadata": {
    "tags": []
   },
   "outputs": [
    {
     "output_type": "stream",
     "name": "stdout",
     "text": [
      "['App', 'Category', 'Rating', 'Reviews', 'Size', 'Installs', 'Type', 'Price', 'Content Rating', 'Genres', 'Last Updated', 'Current Ver', 'Android Ver']\n\n\n['Life Made WI-Fi Touchscreen Photo Frame', '1.9', '19', '3.0M', '1,000+', 'Free', '0', 'Everyone', '', 'February 11, 2018', '1.0.19', '4.0 and up']\n\n\n['Photo Editor & Candy Camera & Grid & ScrapBook', 'ART_AND_DESIGN', '4.1', '159', '19M', '10,000+', 'Free', '0', 'Everyone', 'Art & Design', 'January 7, 2018', '1.0.0', '4.0.3 and up']\n"
     ]
    }
   ],
   "source": [
    "print(android_header)  # header\n",
    "print('\\n')\n",
    "print(android[10472])  # incorrect row\n",
    "print('\\n')\n",
    "print(android[0])      # example correct row"
   ]
  },
  {
   "source": [
    "According to the discussion, this issue is caused by a missing value for the 'Category' column. To fix this, we'll simply delete the row so it doesn't interfere with the rest of the data."
   ],
   "cell_type": "markdown",
   "metadata": {}
  },
  {
   "cell_type": "code",
   "execution_count": 6,
   "metadata": {},
   "outputs": [],
   "source": [
    "del android[10472] # don't run this more than once!"
   ]
  },
  {
   "source": [
    "### Checking for Duplicates\n",
    "\n",
    "Another issue we should check for is duplicate rows. A few duplicate entries can really skew our data and the conclusions we draw from it. Fortunately, we can check the [discussion](https://www.kaggle.com/ramamet4/app-store-apple-data-set-10k-apps/discussion) around our data; this won't always be an option so we'll also want to check for ourselves.\n",
    "\n",
    "The easiest way to do this is create two lists to account for unique and duplicate app names:"
   ],
   "cell_type": "markdown",
   "metadata": {}
  },
  {
   "cell_type": "code",
   "execution_count": 7,
   "metadata": {
    "tags": []
   },
   "outputs": [
    {
     "output_type": "stream",
     "name": "stdout",
     "text": [
      "Number of duplicates:  1181\n\n\n"
     ]
    }
   ],
   "source": [
    "android_duplicate_apps = []\n",
    "android_unique_apps = []\n",
    "\n",
    "for app in android:\n",
    "    name = app[0]\n",
    "    if name in android_unique_apps:\n",
    "        android_duplicate_apps.append(name)\n",
    "    else:\n",
    "        android_unique_apps.append(name)\n",
    "\n",
    "print('Number of duplicates: ', len(android_duplicate_apps))\n",
    "print('\\n')"
   ]
  },
  {
   "source": [
    "So there are 1181 cases where an Android app name occurs more than once. Let's check the App Store as well."
   ],
   "cell_type": "markdown",
   "metadata": {}
  },
  {
   "cell_type": "code",
   "execution_count": 8,
   "metadata": {
    "tags": []
   },
   "outputs": [
    {
     "output_type": "stream",
     "name": "stdout",
     "text": [
      "Number of duplicates:  0\n\n\n[]\n"
     ]
    }
   ],
   "source": [
    "apple_duplicate_apps = []\n",
    "apple_unique_apps = []\n",
    "\n",
    "for app in ios:\n",
    "    name = app[0] # the iOS data shows the app name in the first column, labeled \"ID\"\n",
    "    if name in apple_unique_apps:\n",
    "        apple_duplicate_apps.append(name)\n",
    "    else:\n",
    "        apple_unique_apps.append(name)\n",
    "\n",
    "print('Number of duplicates: ', len(apple_duplicate_apps))\n",
    "print('\\n')\n",
    "print(apple_duplicate_apps)"
   ]
  },
  {
   "source": [
    "It appears there are no duplicate entries in the App Store data.\n",
    "\n",
    "We could just remove all the duplicate entries, but a better idea would be to examine them a little closer and remove only the entries which make sense to remove. For example, let's take a closer look at the Instagram app entries on Google Play:"
   ],
   "cell_type": "markdown",
   "metadata": {}
  },
  {
   "cell_type": "code",
   "execution_count": 9,
   "metadata": {
    "tags": []
   },
   "outputs": [
    {
     "output_type": "stream",
     "name": "stdout",
     "text": [
      "['Instagram', 'SOCIAL', '4.5', '66577313', 'Varies with device', '1,000,000,000+', 'Free', '0', 'Teen', 'Social', 'July 31, 2018', 'Varies with device', 'Varies with device']\n['Instagram', 'SOCIAL', '4.5', '66577446', 'Varies with device', '1,000,000,000+', 'Free', '0', 'Teen', 'Social', 'July 31, 2018', 'Varies with device', 'Varies with device']\n['Instagram', 'SOCIAL', '4.5', '66577313', 'Varies with device', '1,000,000,000+', 'Free', '0', 'Teen', 'Social', 'July 31, 2018', 'Varies with device', 'Varies with device']\n['Instagram', 'SOCIAL', '4.5', '66509917', 'Varies with device', '1,000,000,000+', 'Free', '0', 'Teen', 'Social', 'July 31, 2018', 'Varies with device', 'Varies with device']\n"
     ]
    }
   ],
   "source": [
    "for app in android:\n",
    "    name = app[0]\n",
    "    if name == 'Instagram':\n",
    "        print(app)"
   ]
  },
  {
   "source": [
    "Looking at index 3 (the fourth column), which corresponds to the number of reviews, we see that they are not all the same. This tells us that data was collected more than once for these apps at different times. With this in mind, it makes sense to only keep the most recent entry - in this case, the one with the highest count of reviews. When we remove all the duplicates, we should be left with 9659:"
   ],
   "cell_type": "markdown",
   "metadata": {}
  },
  {
   "cell_type": "code",
   "execution_count": 10,
   "metadata": {
    "tags": []
   },
   "outputs": [
    {
     "output_type": "stream",
     "name": "stdout",
     "text": [
      "Expected length:  9659\n"
     ]
    }
   ],
   "source": [
    "print('Expected length: ', len(android) - 1181)"
   ]
  },
  {
   "source": [
    "### Removing Duplicates\n",
    "\n",
    "The safest way to remove the duplicate entries is to confirm the expected number of entries (current total - duplicates), build a new dataset of only unique values, and compare the two before deleting any rows.\n",
    "\n",
    "First, we'll create a dictionary called `reviews_max` (specific to each store), where each dictionary key is a unique app name and the corresponding dictionary value is the highest number of reviews of that app. Then, we'll create a new data set from the dictionary, with just the latest entry per app."
   ],
   "cell_type": "markdown",
   "metadata": {}
  },
  {
   "cell_type": "code",
   "execution_count": 11,
   "metadata": {},
   "outputs": [],
   "source": [
    "android_reviews_max = {}\n",
    "\n",
    "for app in android:\n",
    "    name = app[0]\n",
    "    n_reviews = float(app[3])\n",
    "    \n",
    "    if name in android_reviews_max and android_reviews_max[name] < n_reviews:\n",
    "        android_reviews_max[name] = n_reviews\n",
    "        \n",
    "    elif name not in android_reviews_max:\n",
    "        android_reviews_max[name] = n_reviews"
   ]
  },
  {
   "source": [
    "Now let's see if our new data set has the same length as what we expect:"
   ],
   "cell_type": "markdown",
   "metadata": {}
  },
  {
   "cell_type": "code",
   "execution_count": 12,
   "metadata": {
    "tags": []
   },
   "outputs": [
    {
     "output_type": "stream",
     "name": "stdout",
     "text": [
      "Expected length: 9659\nActual length: 9659\n"
     ]
    }
   ],
   "source": [
    "print('Expected length:', len(android) - 1181)\n",
    "print('Actual length:', len(android_reviews_max))"
   ]
  },
  {
   "source": [
    "Now we can use our `reviews_max` dictionaries to remove the duplicates. As stated before, we'll only keep the entry with the most reviews for each app.\n",
    "\n",
    "We'll start by creating two empty lists, `clean` and `already_added`. Then we can loop through the data, and add each app to the list only if the number of apps is equal to the value in our `reviews_max` dictionary, and the app doesn't already exist in the list. This will eliminate any duplicates and leave us with just the most up to date row for each unique app."
   ],
   "cell_type": "markdown",
   "metadata": {}
  },
  {
   "cell_type": "code",
   "execution_count": 13,
   "metadata": {},
   "outputs": [],
   "source": [
    "android_clean = []\n",
    "already_added = []\n",
    "\n",
    "for app in android:\n",
    "    name = app[0]\n",
    "    n_reviews = float(app[3])\n",
    "\n",
    "    if (android_reviews_max[name] == n_reviews) and (name not in already_added):\n",
    "        android_clean.append(app)\n",
    "        already_added.append(name)"
   ]
  },
  {
   "source": [
    "Let's use our `explore_data()` function to make sure everything worked as expected."
   ],
   "cell_type": "markdown",
   "metadata": {}
  },
  {
   "cell_type": "code",
   "execution_count": 14,
   "metadata": {
    "tags": []
   },
   "outputs": [
    {
     "output_type": "stream",
     "name": "stdout",
     "text": [
      "Android Data:\n\n\n['Photo Editor & Candy Camera & Grid & ScrapBook', 'ART_AND_DESIGN', '4.1', '159', '19M', '10,000+', 'Free', '0', 'Everyone', 'Art & Design', 'January 7, 2018', '1.0.0', '4.0.3 and up']\n\n\n['U Launcher Lite – FREE Live Cool Themes, Hide Apps', 'ART_AND_DESIGN', '4.7', '87510', '8.7M', '5,000,000+', 'Free', '0', 'Everyone', 'Art & Design', 'August 1, 2018', '1.2.4', '4.0.3 and up']\n\n\n['Sketch - Draw & Paint', 'ART_AND_DESIGN', '4.5', '215644', '25M', '50,000,000+', 'Free', '0', 'Teen', 'Art & Design', 'June 8, 2018', 'Varies with device', '4.2 and up']\n\n\nNumber of rows: 9659\nNumber of columns: 13\n"
     ]
    }
   ],
   "source": [
    "print('Android Data:')\n",
    "print('\\n')\n",
    "explore_data(android_clean, 0, 3, True)"
   ]
  },
  {
   "source": [
    "Looks like we got the results we were expecting. The next step is to remove some more apps which aren't relevant to our analysis."
   ],
   "cell_type": "markdown",
   "metadata": {}
  },
  {
   "source": [
    "### Isolating English Apps\n",
    "\n",
    "Since our company only creates apps in English, it makes sense to analyze just the English-language apps. Looking at our data, we'll find that both data sets include app names that are not in English or don't seem to target an English-speaking audience. Here are a few examples:"
   ],
   "cell_type": "markdown",
   "metadata": {}
  },
  {
   "cell_type": "code",
   "execution_count": 15,
   "metadata": {
    "tags": []
   },
   "outputs": [
    {
     "output_type": "stream",
     "name": "stdout",
     "text": [
      "爱奇艺PPS -《欢乐颂2》电视剧热播\n【脱出ゲーム】絶対に最後までプレイしないで 〜謎解き＆ブロックパズル〜\n\n\n中国語 AQリスニング\nلعبة تقدر تربح DZ\n"
     ]
    }
   ],
   "source": [
    "print(ios[813][1])\n",
    "print(ios[6731][1])\n",
    "print('\\n')\n",
    "print(android_clean[4412][0])\n",
    "print(android_clean[7940][0])"
   ]
  },
  {
   "source": [
    "We're not interested in these apps for our analysis, so let's remove them. The most logical way to do this is by comparing the characters in each app name to the characters which are typically used in English. In other words, we'll exclude apps whose names include characters which are not used in English.\n",
    "\n",
    "Normal English characters, including letters A through Z, numbers 0 through 9, punctuation (., !, ?, ;, etc), and other symbols are each included in the ASCII standard, and has a number from 0 to 127 associated with it. With this in mind, we can check each app name to see if it includes non-English (i.e. non-ASCII) characters using a function. We'll use Python's built-in `ord()` function, which pulls a character's corresponding ASCII value."
   ],
   "cell_type": "markdown",
   "metadata": {}
  },
  {
   "cell_type": "code",
   "execution_count": 16,
   "metadata": {},
   "outputs": [],
   "source": [
    "def is_english(string):\n",
    "    # We'll only remove an app if it has more than 3 non-ASCII characters, to minimize       unnecessary data loss.\n",
    "    non_ascii = 0\n",
    "\n",
    "    for character in string:\n",
    "        if ord(character) > 127:\n",
    "            non_ascii += 1\n",
    "    \n",
    "    if non_ascii > 3:\n",
    "        return False\n",
    "    else:\n",
    "        return True"
   ]
  },
  {
   "source": [
    "Let's test our function on a few app names:"
   ],
   "cell_type": "markdown",
   "metadata": {}
  },
  {
   "cell_type": "code",
   "execution_count": 17,
   "metadata": {
    "tags": []
   },
   "outputs": [
    {
     "output_type": "stream",
     "name": "stdout",
     "text": [
      "True\nFalse\nTrue\nTrue\n"
     ]
    }
   ],
   "source": [
    "print(is_english('Instagram'))\n",
    "print(is_english('爱奇艺PPS -《欢乐颂2》电视剧热播'))\n",
    "print(is_english('Instachat 😜'))\n",
    "print(is_english('Docs To Go™ Free Office Suite'))"
   ]
  },
  {
   "source": [
    "Great! This function is somewhat simple and a few non-English apps could sneak past, but it should be mostly effective.\n",
    "\n",
    "Next, we can apply our function to filter out the non-English apps in our data sets."
   ],
   "cell_type": "markdown",
   "metadata": {}
  },
  {
   "cell_type": "code",
   "execution_count": 18,
   "metadata": {
    "tags": []
   },
   "outputs": [
    {
     "output_type": "stream",
     "name": "stdout",
     "text": [
      "Cleaned Android apps:  9659\nEnglish Android apps:  9614\nNon-English Total:  45\n\n\nCleaned iOS apps:  7197\nEnglish iOS apps:  6183\nNon-English Total:  1014\n"
     ]
    }
   ],
   "source": [
    "android_english = []\n",
    "for app in android_clean:\n",
    "    name = app[0]\n",
    "    if is_english(name):\n",
    "        android_english.append(app)\n",
    "\n",
    "ios_english = []\n",
    "for app in ios:\n",
    "    name = app[1]\n",
    "    if is_english(name):\n",
    "        ios_english.append(app)\n",
    "\n",
    "print('Cleaned Android apps: ', len(android_clean))\n",
    "print('English Android apps: ', len(android_english))\n",
    "print('Non-English Total: ', len(android_clean) - len(android_english))\n",
    "print('\\n')\n",
    "print('Cleaned iOS apps: ', len(ios))\n",
    "print('English iOS apps: ', len(ios_english))\n",
    "print('Non-English Total: ', len(ios) - len(ios_english))"
   ]
  },
  {
   "source": [
    "### Isolating Free Apps\n",
    "\n",
    "Since we are only interested in ad revenue from free apps, we'll also need to exclude any which are not free to download and install. Both data sets include both free and paid apps, so we'll have to remove the non-free apps for our analysis."
   ],
   "cell_type": "markdown",
   "metadata": {}
  },
  {
   "cell_type": "code",
   "execution_count": 19,
   "metadata": {
    "tags": []
   },
   "outputs": [
    {
     "output_type": "stream",
     "name": "stdout",
     "text": [
      "Final number of Android apps:  8864\nFinal number of iOS apps:  3222\n"
     ]
    }
   ],
   "source": [
    "android_final = []\n",
    "ios_final = []\n",
    "\n",
    "for app in android_english:\n",
    "    price = app[7]\n",
    "    if price == '0':\n",
    "        android_final.append(app)\n",
    "\n",
    "for app in ios_english:\n",
    "    price = app[4]\n",
    "    if price == '0.0':\n",
    "        ios_final.append(app)\n",
    "\n",
    "print('Final number of Android apps: ', len(android_final))\n",
    "print('Final number of iOS apps: ', len(ios_final))"
   ]
  },
  {
   "source": [
    "So far we've spent a good amount of time cleaning our data to make it fit our. To recap, we have:\n",
    "\n",
    " - Removed inaccurate data\n",
    " - Removed duplicate app entries\n",
    " - Removed non-English apps\n",
    " - Isolated the free apps\n",
    "\n",
    "We have cut down the number of apps quite a bit, but these final app lists will give us a big enough sample size for our analysis. Now we'll move from the cleaning phase to draw some conclusions based on our data.\n",
    "\n",
    "## Analysis\n",
    "\n",
    "### Intro\n",
    "\n",
    "To minimize risks and overhead, our validation strategy for an app idea is comprised of three steps:\n",
    "\n",
    "1. Build a minimal Android version of the app, and add it to Google Play.\n",
    "2. If the app has a good response from users, we develop it further.\n",
    "3. If the app is profitable after six months, we build an iOS version of the app and add it to the App Store.\n",
    "\n",
    "\n",
    "Let's consider the best approach to categorize the data. Because our end goal is to add the app on both Google Play and the App Store, we need to find app profiles that are successful on both markets. We'll start by getting an idea of the most common genres for each market (iOS and Android). We'll build frequency tables for a few key columns: `prime_genre` in the App Store, and `Genres` and `Category` in the Google Play store.\n",
    "\n",
    "### Building the Analysis Functions\n",
    "\n",
    "We'll use two functions for analyzing our data:\n",
    "\n",
    " - First, a function to generate frequency tables which include percentages\n",
    " - Second, a function to display the percentages in descending order"
   ],
   "cell_type": "markdown",
   "metadata": {}
  },
  {
   "cell_type": "code",
   "execution_count": 20,
   "metadata": {},
   "outputs": [],
   "source": [
    "def freq_table(dataset, index):\n",
    "    table = {}\n",
    "    total = 0\n",
    "\n",
    "    for row in dataset:\n",
    "        total += 1\n",
    "        value = row[index]\n",
    "        if value in table:\n",
    "            table[value] += 1\n",
    "        else:\n",
    "            table[value] = 1\n",
    "\n",
    "    table_percentages = {}\n",
    "    for key in table:\n",
    "        percentage = (table[key] / total) * 100\n",
    "        table_percentages[key] = percentage\n",
    "\n",
    "    return table_percentages"
   ]
  },
  {
   "source": [
    "The `freq_table()` function takes two inputs, a `dataset` and an `index`, which should be an integer (the column we want to analyze). For each row in the dataset, if the specified column (in our case, the genre) is already in the frequency table, we'll add 1 to the count of that genre. If it doesn't exist yet, we'll create a new dictionary key and set it equal to 1.\n",
    "\n",
    "Then it creates a new dictionary, converts each value into a percentage with the line `percentage = (table[key] / total) * 100`, and returns the new percentage dictionary."
   ],
   "cell_type": "markdown",
   "metadata": {}
  },
  {
   "cell_type": "code",
   "execution_count": 21,
   "metadata": {},
   "outputs": [],
   "source": [
    "def display_table(dataset, index):\n",
    "    table = freq_table(dataset, index)\n",
    "    table_display = []\n",
    "    for key in table:\n",
    "        key_val_as_tuple = (table[key], key)\n",
    "        table_display.append(key_val_as_tuple)\n",
    "\n",
    "    table_sorted = sorted(table_display, reverse=True)\n",
    "    for entry in table_sorted:\n",
    "        print(entry[1], ':', entry[0])"
   ]
  },
  {
   "source": [
    "`display_table()` embeds the `freq_table()` function we made in the previous step, and loops through each dictionary key, sorting and printing it in a nice, easily-read format.\n",
    "\n",
    "### Apps per Genre and Category\n",
    "\n",
    "Let's see this function in action, looking at the `prime_genre` column from our iOS data and the `Genres` and `Category` columns from the Android data."
   ],
   "cell_type": "markdown",
   "metadata": {}
  },
  {
   "cell_type": "code",
   "execution_count": 22,
   "metadata": {},
   "outputs": [
    {
     "output_type": "stream",
     "name": "stdout",
     "text": [
      "Games : 58.16263190564867\nEntertainment : 7.883302296710118\nPhoto & Video : 4.9658597144630665\nEducation : 3.662321539416512\nSocial Networking : 3.2898820608317814\nShopping : 2.60707635009311\nUtilities : 2.5139664804469275\nSports : 2.1415270018621975\nMusic : 2.0484171322160147\nHealth & Fitness : 2.0173805090006205\nProductivity : 1.7380509000620732\nLifestyle : 1.5828677839851024\nNews : 1.3345747982619491\nTravel : 1.2414649286157666\nFinance : 1.1173184357541899\nWeather : 0.8690254500310366\nFood & Drink : 0.8069522036002483\nReference : 0.5586592178770949\nBusiness : 0.5276225946617008\nBook : 0.4345127250155183\nNavigation : 0.186219739292365\nMedical : 0.186219739292365\nCatalogs : 0.12414649286157665\n"
     ]
    }
   ],
   "source": [
    "display_table(ios_final, -5)"
   ]
  },
  {
   "source": [
    "As we can clearly see, `Games` is far and away the largest category, coming in at just over 58 percent. The next largest is `Entertainment` with 7.88 percent, `Photo & Video` with just under 5 percent. From looking at this spread, the impression is that most apps on iOS are geared toward some kind of entertainment, considering the top two categories. It gives the appearance that apps with more practical purposes are more rare, or aren't used as much. However, that does not automatically mean that games and entertainment apps have more users, as the demand for them may not match how many are being offered.\n",
    "\n",
    "Let's continue and look at the Google Play data."
   ],
   "cell_type": "markdown",
   "metadata": {}
  },
  {
   "cell_type": "code",
   "execution_count": 23,
   "metadata": {},
   "outputs": [
    {
     "output_type": "stream",
     "name": "stdout",
     "text": [
      "FAMILY : 18.907942238267147\n",
      "GAME : 9.724729241877256\n",
      "TOOLS : 8.461191335740072\n",
      "BUSINESS : 4.591606498194946\n",
      "LIFESTYLE : 3.9034296028880866\n",
      "PRODUCTIVITY : 3.892148014440433\n",
      "FINANCE : 3.7003610108303246\n",
      "MEDICAL : 3.531137184115524\n",
      "SPORTS : 3.395758122743682\n",
      "PERSONALIZATION : 3.3167870036101084\n",
      "COMMUNICATION : 3.2378158844765346\n",
      "HEALTH_AND_FITNESS : 3.0798736462093865\n",
      "PHOTOGRAPHY : 2.944494584837545\n",
      "NEWS_AND_MAGAZINES : 2.7978339350180503\n",
      "SOCIAL : 2.6624548736462095\n",
      "TRAVEL_AND_LOCAL : 2.33528880866426\n",
      "SHOPPING : 2.2450361010830324\n",
      "BOOKS_AND_REFERENCE : 2.1435018050541514\n",
      "DATING : 1.861462093862816\n",
      "VIDEO_PLAYERS : 1.7937725631768955\n",
      "MAPS_AND_NAVIGATION : 1.3989169675090252\n",
      "FOOD_AND_DRINK : 1.2409747292418771\n",
      "EDUCATION : 1.1620036101083033\n",
      "ENTERTAINMENT : 0.9589350180505415\n",
      "LIBRARIES_AND_DEMO : 0.9363718411552346\n",
      "AUTO_AND_VEHICLES : 0.9250902527075812\n",
      "HOUSE_AND_HOME : 0.8235559566787004\n",
      "WEATHER : 0.8009927797833934\n",
      "EVENTS : 0.7107400722021661\n",
      "PARENTING : 0.6543321299638989\n",
      "ART_AND_DESIGN : 0.6430505415162455\n",
      "COMICS : 0.6204873646209386\n",
      "BEAUTY : 0.5979241877256317\n"
     ]
    }
   ],
   "source": [
    "display_table(android_final, 1) # category column"
   ]
  },
  {
   "source": [
    "At first glance, it seems to be a completely different distribution on Android. By looking at the categories near the top, most of the top categories seem to be more geared toward practical uses. Taking a closer look at the actual Play Store though, we'll quickly see that the top `FAMILY` category is mostly made up of kids games. Regardless, entertainment and \"fun\" apps seem to be much less in the majority in the Android ecosystem. We can confirm this further by looking at the `Genres` column:"
   ],
   "cell_type": "markdown",
   "metadata": {}
  },
  {
   "cell_type": "code",
   "execution_count": 24,
   "metadata": {},
   "outputs": [
    {
     "output_type": "stream",
     "name": "stdout",
     "text": [
      "Tools : 8.449909747292418\nEntertainment : 6.069494584837545\nEducation : 5.347472924187725\nBusiness : 4.591606498194946\nProductivity : 3.892148014440433\nLifestyle : 3.892148014440433\nFinance : 3.7003610108303246\nMedical : 3.531137184115524\nSports : 3.463447653429603\nPersonalization : 3.3167870036101084\nCommunication : 3.2378158844765346\nAction : 3.1024368231046933\nHealth & Fitness : 3.0798736462093865\nPhotography : 2.944494584837545\nNews & Magazines : 2.7978339350180503\nSocial : 2.6624548736462095\nTravel & Local : 2.3240072202166067\nShopping : 2.2450361010830324\nBooks & Reference : 2.1435018050541514\nSimulation : 2.0419675090252705\nDating : 1.861462093862816\nArcade : 1.8501805054151623\nVideo Players & Editors : 1.7712093862815883\nCasual : 1.7599277978339352\nMaps & Navigation : 1.3989169675090252\nFood & Drink : 1.2409747292418771\nPuzzle : 1.128158844765343\nRacing : 0.9927797833935018\nRole Playing : 0.9363718411552346\nLibraries & Demo : 0.9363718411552346\nAuto & Vehicles : 0.9250902527075812\nStrategy : 0.9138086642599278\nHouse & Home : 0.8235559566787004\nWeather : 0.8009927797833934\nEvents : 0.7107400722021661\nAdventure : 0.6768953068592057\nComics : 0.6092057761732852\nBeauty : 0.5979241877256317\nArt & Design : 0.5979241877256317\nParenting : 0.4963898916967509\nCard : 0.45126353790613716\nCasino : 0.42870036101083037\nTrivia : 0.41741877256317694\nEducational;Education : 0.39485559566787\nBoard : 0.3835740072202166\nEducational : 0.3722924187725632\nEducation;Education : 0.33844765342960287\nWord : 0.2594765342960289\nCasual;Pretend Play : 0.236913357400722\nMusic : 0.2030685920577617\nRacing;Action & Adventure : 0.16922382671480143\nPuzzle;Brain Games : 0.16922382671480143\nEntertainment;Music & Video : 0.16922382671480143\nCasual;Brain Games : 0.13537906137184114\nCasual;Action & Adventure : 0.13537906137184114\nArcade;Action & Adventure : 0.12409747292418773\nAction;Action & Adventure : 0.10153429602888085\nEducational;Pretend Play : 0.09025270758122744\nSimulation;Action & Adventure : 0.078971119133574\nParenting;Education : 0.078971119133574\nEntertainment;Brain Games : 0.078971119133574\nBoard;Brain Games : 0.078971119133574\nParenting;Music & Video : 0.06768953068592057\nEducational;Brain Games : 0.06768953068592057\nCasual;Creativity : 0.06768953068592057\nArt & Design;Creativity : 0.06768953068592057\nEducation;Pretend Play : 0.056407942238267145\nRole Playing;Pretend Play : 0.04512635379061372\nEducation;Creativity : 0.04512635379061372\nRole Playing;Action & Adventure : 0.033844765342960284\nPuzzle;Action & Adventure : 0.033844765342960284\nEntertainment;Creativity : 0.033844765342960284\nEntertainment;Action & Adventure : 0.033844765342960284\nEducational;Creativity : 0.033844765342960284\nEducational;Action & Adventure : 0.033844765342960284\nEducation;Music & Video : 0.033844765342960284\nEducation;Brain Games : 0.033844765342960284\nEducation;Action & Adventure : 0.033844765342960284\nAdventure;Action & Adventure : 0.033844765342960284\nVideo Players & Editors;Music & Video : 0.02256317689530686\nSports;Action & Adventure : 0.02256317689530686\nSimulation;Pretend Play : 0.02256317689530686\nPuzzle;Creativity : 0.02256317689530686\nMusic;Music & Video : 0.02256317689530686\nEntertainment;Pretend Play : 0.02256317689530686\nCasual;Education : 0.02256317689530686\nBoard;Action & Adventure : 0.02256317689530686\nVideo Players & Editors;Creativity : 0.01128158844765343\nTrivia;Education : 0.01128158844765343\nTravel & Local;Action & Adventure : 0.01128158844765343\nTools;Education : 0.01128158844765343\nStrategy;Education : 0.01128158844765343\nStrategy;Creativity : 0.01128158844765343\nStrategy;Action & Adventure : 0.01128158844765343\nSimulation;Education : 0.01128158844765343\nRole Playing;Brain Games : 0.01128158844765343\nRacing;Pretend Play : 0.01128158844765343\nPuzzle;Education : 0.01128158844765343\nParenting;Brain Games : 0.01128158844765343\nMusic & Audio;Music & Video : 0.01128158844765343\nLifestyle;Pretend Play : 0.01128158844765343\nLifestyle;Education : 0.01128158844765343\nHealth & Fitness;Education : 0.01128158844765343\nHealth & Fitness;Action & Adventure : 0.01128158844765343\nEntertainment;Education : 0.01128158844765343\nCommunication;Creativity : 0.01128158844765343\nComics;Creativity : 0.01128158844765343\nCasual;Music & Video : 0.01128158844765343\nCard;Action & Adventure : 0.01128158844765343\nBooks & Reference;Education : 0.01128158844765343\nArt & Design;Pretend Play : 0.01128158844765343\nArt & Design;Action & Adventure : 0.01128158844765343\nArcade;Pretend Play : 0.01128158844765343\nAdventure;Education : 0.01128158844765343\n"
     ]
    }
   ],
   "source": [
    "display_table(android_final, -4) # prime_genre"
   ]
  },
  {
   "source": [
    "Again, we see that the spread is much more evenly distributed than in the iOS store.  The `Genres` column includes a lot more catagories.\n",
    "\n",
    "So far, the iOS market seems to be heavily biased towards games and fun, while the Android market is more balanced between both fun and practical apps. Of course, the number of apps available only tells part of the story, so next we'll take a look at the most popular apps."
   ],
   "cell_type": "markdown",
   "metadata": {}
  },
  {
   "source": [
    "## Most Popular by Category\n",
    "\n",
    "The obvious way to determine which genres are the most popular would be to calculate the average number of installs per genre. This is easy enough for the Android data, as it includes an `Installs` column; not so much with the iOS data as there is no such column. As a workaround, we can try looking at the total number of reviews, which is found in the `rating_count_tot` column.\n",
    "\n",
    "### iOS Analysis\n",
    "\n",
    "We'll start by calculating the average users per app genre in the iOS store. For this, we will:\n",
    "- isolate the apps for each genre\n",
    "- sum up the user ratings for the apps in that genre\n",
    "- divide that sum by the number of apps in that genre\n",
    "\n",
    "We can use the `freq_table()` function from the previous step to do this, using a nested `for` loop."
   ],
   "cell_type": "markdown",
   "metadata": {}
  },
  {
   "cell_type": "code",
   "execution_count": 25,
   "metadata": {},
   "outputs": [
    {
     "output_type": "stream",
     "name": "stdout",
     "text": [
      "Social Networking : 71548.34905660378\n",
      "Photo & Video : 28441.54375\n",
      "Games : 22788.6696905016\n",
      "Music : 57326.530303030304\n",
      "Reference : 74942.11111111111\n",
      "Health & Fitness : 23298.015384615384\n",
      "Weather : 52279.892857142855\n",
      "Utilities : 18684.456790123455\n",
      "Travel : 28243.8\n",
      "Shopping : 26919.690476190477\n",
      "News : 21248.023255813954\n",
      "Navigation : 86090.33333333333\n",
      "Lifestyle : 16485.764705882353\n",
      "Entertainment : 14029.830708661417\n",
      "Food & Drink : 33333.92307692308\n",
      "Sports : 23008.898550724636\n",
      "Book : 39758.5\n",
      "Finance : 31467.944444444445\n",
      "Education : 7003.983050847458\n",
      "Productivity : 21028.410714285714\n",
      "Business : 7491.117647058823\n",
      "Catalogs : 4004.0\n",
      "Medical : 612.0\n"
     ]
    }
   ],
   "source": [
    "genres_ios = freq_table(ios_final,-5) # create frequency table for the prime_genre column\n",
    "\n",
    "for genre in genres_ios:\n",
    "    total = 0\n",
    "    len_genre = 0\n",
    "    for app in ios_final:\n",
    "        genre_app = app[11]\n",
    "        if genre_app == genre:\n",
    "            num_ratings = float(app[5])\n",
    "            total += num_ratings\n",
    "            len_genre += 1\n",
    "\n",
    "    avg_num_ratings = total / len_genre\n",
    "    print(genre, ':', avg_num_ratings)"
   ]
  },
  {
   "source": [
    "At first glance, there are a few clear leaders with a lot of reviews. Navigation, Social Networking, and Reference all have higher than average reviews compared to the others, but in reality these genres are dominated by just a few big name apps. Google Maps and Waze, Facebook and Twitter, and Bible and Dictionary.com, skew the number of reviews for their respective categories. Let's take a look at the Reference category:"
   ],
   "cell_type": "markdown",
   "metadata": {}
  },
  {
   "cell_type": "code",
   "execution_count": 26,
   "metadata": {},
   "outputs": [
    {
     "output_type": "stream",
     "name": "stdout",
     "text": [
      "Bible : 985920\nDictionary.com Dictionary & Thesaurus : 200047\nDictionary.com Dictionary & Thesaurus for iPad : 54175\nGoogle Translate : 26786\nMuslim Pro: Ramadan 2017 Prayer Times, Azan, Quran : 18418\nNew Furniture Mods - Pocket Wiki & Game Tools for Minecraft PC Edition : 17588\nMerriam-Webster Dictionary : 16849\nNight Sky : 12122\nCity Maps for Minecraft PE - The Best Maps for Minecraft Pocket Edition (MCPE) : 8535\nLUCKY BLOCK MOD ™ for Minecraft PC Edition - The Best Pocket Wiki & Mods Installer Tools : 4693\nGUNS MODS for Minecraft PC Edition - Mods Tools : 1497\nGuides for Pokémon GO - Pokemon GO News and Cheats : 826\nWWDC : 762\nHorror Maps for Minecraft PE - Download The Scariest Maps for Minecraft Pocket Edition (MCPE) Free : 718\nVPN Express : 14\nReal Bike Traffic Rider Virtual Reality Glasses : 8\n教えて!goo : 0\nJishokun-Japanese English Dictionary & Translator : 0\n"
     ]
    }
   ],
   "source": [
    "for app in ios_final:\n",
    "    if app[-5] == 'Reference':\n",
    "        print(app[1], ':', app[5])"
   ]
  },
  {
   "source": [
    "Even though there are already a lot of app ratings in `Reference`, this category seems to be less saturated than it would first appear, with the number of reviews skewed upward by just a couple of very popular apps. We can see that the number of reviews drops off dramatically after the first two or three apps.\n",
    "\n",
    "Using what we learned earlier about what the most saturated app categories are, it would probably be best to avoid games and entertainment, since our app would likely just get lost in these categories and not have much exposure.\n",
    "\n",
    "To this end, the `Reference` category seems to be a good place for our app - the lack of over-saturation will give it a good chance to be noticed, and there are a lot of additional features we can add later to draw new users."
   ],
   "cell_type": "markdown",
   "metadata": {}
  },
  {
   "source": [
    "### Android Analysis\n",
    "\n",
    "The Google Play data does include a column for number of installs, but unfortunately the numbers are not very precise. As we can see below, values are all open ended, and don't tell us exactly how many installs a particular app has."
   ],
   "cell_type": "markdown",
   "metadata": {}
  },
  {
   "cell_type": "code",
   "execution_count": 27,
   "metadata": {},
   "outputs": [
    {
     "output_type": "stream",
     "name": "stdout",
     "text": [
      "1,000,000+ : 15.726534296028879\n100,000+ : 11.552346570397113\n10,000,000+ : 10.548285198555957\n10,000+ : 10.198555956678701\n1,000+ : 8.393501805054152\n100+ : 6.915613718411552\n5,000,000+ : 6.825361010830325\n500,000+ : 5.561823104693141\n50,000+ : 4.7721119133574\n5,000+ : 4.512635379061372\n10+ : 3.5424187725631766\n500+ : 3.2490974729241873\n50,000,000+ : 2.3014440433213\n100,000,000+ : 2.1322202166064983\n50+ : 1.917870036101083\n5+ : 0.78971119133574\n1+ : 0.5076714801444043\n500,000,000+ : 0.2707581227436823\n1,000,000,000+ : 0.22563176895306858\n0+ : 0.04512635379061372\n0 : 0.01128158844765343\n"
     ]
    }
   ],
   "source": [
    "display_table(android_final, 5)"
   ]
  },
  {
   "source": [
    "The problems with the data being categorized in this way is clear from an analysis standpoint. Without precise install numbers, there's no way of knowing whether an app with 100,000+ installs has 100,000, 200,000, or even 300,000. Since there's no way of knowing, we'll consider 100,000+ to be 100,000 installs, 100,000,000+ to be 100,000,000 installs, and so on.\n",
    "\n",
    "To make calculations with the data, we'll have to remove the extra plus and comma characters (which can be done with the `replace` string method) and convert the install numbers from strings to floats. We can use another nested loop to accomplish this."
   ],
   "cell_type": "markdown",
   "metadata": {}
  },
  {
   "cell_type": "code",
   "execution_count": 31,
   "metadata": {},
   "outputs": [
    {
     "output_type": "stream",
     "name": "stdout",
     "text": [
      "ART_AND_DESIGN : 1986335.0877192982\nAUTO_AND_VEHICLES : 647317.8170731707\nBEAUTY : 513151.88679245283\nBOOKS_AND_REFERENCE : 8767811.894736841\nBUSINESS : 1712290.1474201474\nCOMICS : 817657.2727272727\nCOMMUNICATION : 38456119.167247385\nDATING : 854028.8303030303\nEDUCATION : 1833495.145631068\nENTERTAINMENT : 11640705.88235294\nEVENTS : 253542.22222222222\nFINANCE : 1387692.475609756\nFOOD_AND_DRINK : 1924897.7363636363\nHEALTH_AND_FITNESS : 4188821.9853479853\nHOUSE_AND_HOME : 1331540.5616438356\nLIBRARIES_AND_DEMO : 638503.734939759\nLIFESTYLE : 1437816.2687861272\nGAME : 15588015.603248259\nFAMILY : 3695641.8198090694\nMEDICAL : 120550.61980830671\nSOCIAL : 23253652.127118643\nSHOPPING : 7036877.311557789\nPHOTOGRAPHY : 17840110.40229885\nSPORTS : 3638640.1428571427\nTRAVEL_AND_LOCAL : 13984077.710144928\nTOOLS : 10801391.298666667\nPERSONALIZATION : 5201482.6122448975\nPRODUCTIVITY : 16787331.344927534\nPARENTING : 542603.6206896552\nWEATHER : 5074486.197183099\nVIDEO_PLAYERS : 24727872.452830188\nNEWS_AND_MAGAZINES : 9549178.467741935\nMAPS_AND_NAVIGATION : 4056941.7741935486\n"
     ]
    }
   ],
   "source": [
    "categories_android = freq_table(android_final, 1)\n",
    "\n",
    "for category in categories_android:\n",
    "    total = 0\n",
    "    len_category = 0\n",
    "    for app in android_final:\n",
    "        app_category = app[1]\n",
    "        if app_category == category:\n",
    "            num_installs = app[5]\n",
    "            num_installs = num_installs.replace('+', '')\n",
    "            num_installs = num_installs.replace(',', '')\n",
    "            num_installs = float(num_installs)\n",
    "            total += num_installs\n",
    "            len_category += 1\n",
    "\n",
    "    android_avg_installs = total / len_category\n",
    "    print(category, ':', android_avg_installs)"
   ]
  },
  {
   "source": [
    "Communication is the biggest category with over 38 million, but again this is skewed upward heavily by several huge apps such as Facebook Messenger, Skype, Hangouts, and others."
   ],
   "cell_type": "markdown",
   "metadata": {}
  }
 ]
}